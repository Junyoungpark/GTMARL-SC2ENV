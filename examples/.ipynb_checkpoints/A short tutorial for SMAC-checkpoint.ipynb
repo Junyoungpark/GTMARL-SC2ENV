{
 "cells": [
  {
   "cell_type": "markdown",
   "metadata": {},
   "source": [
    "# A short tutorial for SMAC\n",
    "\n",
    "Author: Junyoung Park (Junyoungpark@kaist.ac.kr)  \n",
    "Original Implemenation is brought from [this link](https://github.com/oxwhirl/smac/blob/master/smac/examples/random_agents.py).\n",
    "\n",
    "* The code will not run properly on Jupyter notebook. The runnable script is prepared in `random_agnet.py`"
   ]
  },
  {
   "cell_type": "code",
   "execution_count": 1,
   "metadata": {},
   "outputs": [],
   "source": [
    "from smac.env import StarCraft2Env # Import SMAC env\n",
    "import numpy as np"
   ]
  },
  {
   "cell_type": "markdown",
   "metadata": {},
   "source": [
    "## Define a game runner\n",
    "\n",
    "`StarCraft2Env` is a RL friendly interface of Starcraf II (SC2) and python. Developed by the SMAC team. Among the various input parameters of `StarCraft2Env`, we will tweak few parameters of followings:\n",
    "* __window_size_x__, __window_size_y__ (Floats) : Two parameters will specify the window size of SC2 launcher. We use 1920/3, 1080/3, (1/3 of Full HD resolution) resepectively.\n",
    "* __difficulty__ (string casted Integers) : The parameter specifies the difficuly of SC2 environment. You can tweak this paramters when you train your model. In test, you will going to fix this value as **\n",
    "* __map_name__ (string): The parameter specifies scenario of environment. We will use **"
   ]
  },
  {
   "cell_type": "code",
   "execution_count": 2,
   "metadata": {},
   "outputs": [],
   "source": [
    "env = StarCraft2Env(map_name=\"8m\",\n",
    "                    window_size_x=1920/3,\n",
    "                    window_size_y=1080/3)"
   ]
  },
  {
   "cell_type": "markdown",
   "metadata": {},
   "source": [
    "## Retrieving meta information about the SC2 env\n",
    "\n",
    "`StarCraft2Env` supports a function that might be used for specifying the shape of inputs and other paramers of your model. You can instantly access to the meta information of `StarCraft2Env` by calling `env.get_env_info()`"
   ]
  },
  {
   "cell_type": "code",
   "execution_count": 3,
   "metadata": {},
   "outputs": [
    {
     "name": "stdout",
     "output_type": "stream",
     "text": [
      "The action of each agent: 14\n",
      "How many agent will you control (at beginning): 8 \n"
     ]
    }
   ],
   "source": [
    "env_info = env.get_env_info()\n",
    "n_actions = env_info[\"n_actions\"]\n",
    "n_agents = env_info[\"n_agents\"]\n",
    "\n",
    "print(\"The action of each agent: {}\".format(n_actions))\n",
    "print(\"How many agent will you control (at beginning): {} \".format(n_agents))"
   ]
  },
  {
   "cell_type": "code",
   "execution_count": 4,
   "metadata": {},
   "outputs": [],
   "source": [
    "n_episodes = 50 # Number of episodes"
   ]
  },
  {
   "cell_type": "markdown",
   "metadata": {},
   "source": [
    "## Interfacing Neural networks (or any other tensor-ouputed learning method) with SC2\n",
    "\n",
    "`avail_actions` gives you the agent specific action space. the length of `avail_actions` will vary depending on the scenario. In general (unless you made a modification on the `StarCraft2Env`), the dimension of actions space is\n",
    "$$\\text{Dimension of action space} = 1+1+4+ \\text{number of enemy agents}$$\n",
    "\n",
    "* where the first 1 is for __no_operation__ which is doing nothing\n",
    "* where the second 1 is for __stop__ (in SC2, stop will cease everything what agent does.)\n",
    "* where the third 4 is for __move__ (depedning on the actions, the agents will move to the North, South, East, West). Note the amount of moving is determined by `StarCraft2Env`\n",
    "* where the fourth $\\text{Number of enemy agents}$ is for denoting which enemy will attack by the agent.\n",
    "\n",
    "For instance, if the `avail_actions` of a agnet is [0, 1, 1, 1, 1, 1, 0, 0, 0, 0, 0, 0, 0, 0],\n",
    "then we can infer that the certrain agent __can__ do 'stop', 'move North', 'move South', 'move East', and 'move West' and __cannot__ do 'no-op', 'attack enemies'."
   ]
  },
  {
   "cell_type": "code",
   "execution_count": 5,
   "metadata": {},
   "outputs": [
    {
     "name": "stdout",
     "output_type": "stream",
     "text": [
      "Total reward in episode 0 = 1.875\n",
      "Total reward in episode 1 = 1.3125\n",
      "Total reward in episode 2 = 1.3125\n",
      "Total reward in episode 3 = 1.6875\n",
      "Total reward in episode 4 = 2.4375\n",
      "Total reward in episode 5 = 1.6875\n",
      "Total reward in episode 6 = 2.625\n",
      "Total reward in episode 7 = 1.3125\n",
      "Total reward in episode 8 = 1.125\n",
      "Total reward in episode 9 = 2.0625\n",
      "Total reward in episode 10 = 1.875\n",
      "Total reward in episode 11 = 1.875\n",
      "Total reward in episode 12 = 1.6875\n",
      "Total reward in episode 13 = 1.875\n",
      "Total reward in episode 14 = 1.3125\n",
      "Total reward in episode 15 = 2.4375\n",
      "Total reward in episode 16 = 1.125\n",
      "Total reward in episode 17 = 1.5\n",
      "Total reward in episode 18 = 2.625\n",
      "Total reward in episode 19 = 1.6875\n",
      "Total reward in episode 20 = 2.25\n",
      "Total reward in episode 21 = 1.3125\n",
      "Total reward in episode 22 = 2.4375\n",
      "Total reward in episode 23 = 1.6875\n",
      "Total reward in episode 24 = 1.125\n",
      "Total reward in episode 25 = 2.0625\n",
      "Total reward in episode 26 = 2.0625\n",
      "Total reward in episode 27 = 2.0625\n",
      "Total reward in episode 28 = 1.6875\n",
      "Total reward in episode 29 = 1.5\n"
     ]
    }
   ],
   "source": [
    "for e in range(n_episodes):\n",
    "    env.reset() # Reset everything to make clean start.\n",
    "    terminated = False\n",
    "    episode_reward = 0\n",
    "\n",
    "    while not terminated:\n",
    "        obs = env.get_obs() # give you a list that contains each agent's observaion\n",
    "        state = env.get_state() # The global state reserved for centralized exectuion\n",
    "\n",
    "        actions = []\n",
    "        for agent_id in range(n_agents):\n",
    "            \n",
    "            avail_actions = env.get_avail_agent_actions(agent_id) # give you per-agent actions space mask)\n",
    "            avail_actions_ind = np.nonzero(avail_actions)[0]  \n",
    "            action = np.random.choice(avail_actions_ind)\n",
    "            actions.append(action)\n",
    "\n",
    "        reward, terminated, _ = env.step(actions)\n",
    "        episode_reward += reward\n",
    "    print(\"Total reward in episode {} = {}\".format(e, episode_reward))\n",
    "\n",
    "env.close() # this will close all connections of SC2 (+ SC2 launcher). make sure to call after you run entire code!"
   ]
  }
 ],
 "metadata": {
  "kernelspec": {
   "display_name": "Python 3",
   "language": "python",
   "name": "python3"
  },
  "language_info": {
   "codemirror_mode": {
    "name": "ipython",
    "version": 3
   },
   "file_extension": ".py",
   "mimetype": "text/x-python",
   "name": "python",
   "nbconvert_exporter": "python",
   "pygments_lexer": "ipython3",
   "version": "3.7.5"
  }
 },
 "nbformat": 4,
 "nbformat_minor": 2
}
